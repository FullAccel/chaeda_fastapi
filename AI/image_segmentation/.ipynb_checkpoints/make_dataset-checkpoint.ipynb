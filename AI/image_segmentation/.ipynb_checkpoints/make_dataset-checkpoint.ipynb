{
 "cells": [
  {
   "cell_type": "markdown",
   "id": "d775248c-28d3-49d2-9ac1-9a2623acd9e7",
   "metadata": {},
   "source": [
    "# convert pdf to png"
   ]
  },
  {
   "cell_type": "code",
   "execution_count": 3,
   "id": "dc9d3c62-b9f9-4e5d-be8e-197b0a6742ec",
   "metadata": {},
   "outputs": [
    {
     "name": "stdout",
     "output_type": "stream",
     "text": [
      "전체 Page 수: 106\n",
      "\n"
     ]
    }
   ],
   "source": [
    "import fitz\n",
    "\n",
    "pdf_doc = fitz.open(\"../books/[블랙라벨] 미적분.pdf\")\n",
    "# number of pages\n",
    "print(f\"전체 Page 수: {pdf_doc.page_count}\")\n",
    "# Get the first page\n",
    "page = pdf_doc.load_page(35)\n",
    "\n",
    "# page 내의 텍스트 추출\n",
    "print(page.get_text())\n",
    "\n",
    "# pdf 파일 이미지 저장\n",
    "pix = page.get_pixmap()\n",
    "output = \"output.png\"\n",
    "pix.save(output)\n"
   ]
  },
  {
   "cell_type": "markdown",
   "id": "bc39ea18-5b82-43bb-93a6-ec22c2f57e47",
   "metadata": {},
   "source": [
    "### yaml 파일 생성"
   ]
  },
  {
   "cell_type": "code",
   "execution_count": 3,
   "id": "7ff1905d-f378-4f67-bdc0-630a68fbb872",
   "metadata": {},
   "outputs": [
    {
     "name": "stdout",
     "output_type": "stream",
     "text": [
      "{'names': {0: 'small', 1: 'medium', 2: 'large'}, 'train': '/tld_sample/train/', 'val': '/tld_sample/valid/'}\n"
     ]
    }
   ],
   "source": [
    "import yaml\n",
    "\n",
    "data = {\n",
    "    \"train\" : '/tld_sample/train/',\n",
    "        \"val\" : '/tld_sample/valid/',\n",
    "        # \"test\" : '/tld_sample/test/', optional \n",
    "        \"names\" : {0 : 'small', 1 : 'medium', 2 : 'large'}}\n",
    "\n",
    "with open('./tld.yaml', 'w') as f :\n",
    "    yaml.dump(data, f)\n",
    "\n",
    "# check written file\n",
    "with open('./tld.yaml', 'r') as f :\n",
    "    lines = yaml.safe_load(f)\n",
    "    print(lines)"
   ]
  },
  {
   "cell_type": "code",
   "execution_count": null,
   "id": "aa09dd5a-ce7d-4106-9152-4668fa4814f2",
   "metadata": {},
   "outputs": [],
   "source": [
    "path = \"./dataset\"\n",
    "annot_path = os.path.join(path,\"annotations\")\n",
    "img_path = os.path.join(path,\"images\")\n",
    "label_path = os.path.join(path,\"labels\")\n",
    "\n",
    "import xml.etree.ElementTree as ET\n",
    "import glob\n",
    "import os\n",
    "import json\n",
    "\n",
    "# xml bbox 형식을 yolo bbox 형태로 변환하는 함수\n",
    "\n",
    "def xml_to_yolo_bbox(bbox, w, h):\n",
    "    # xmin, ymin, xmax, ymax\n",
    "    x_center = ((bbox[2] + bbox[0]) / 2) / w\n",
    "    y_center = ((bbox[3] + bbox[1]) / 2) / h\n",
    "    width = (bbox[2] - bbox[0]) / w\n",
    "    height = (bbox[3] - bbox[1]) / h\n",
    "    return [x_center, y_center, width, height]\n",
    "    \n",
    " classes = []\n",
    "\n",
    "from tqdm import tqdm\n",
    "\n",
    "files = glob.glob(os.path.join(annot_path, '*.xml'))\n",
    "for fil in tqdm(files):\n",
    "    \n",
    "    basename = os.path.basename(fil)\n",
    "    filename = os.path.splitext(basename)[0]\n",
    "    \n",
    "    result = []\n",
    "    \n",
    "    tree = ET.parse(fil)\n",
    "    root = tree.getroot()\n",
    "    width = int(root.find(\"size\").find(\"width\").text)\n",
    "    height = int(root.find(\"size\").find(\"height\").text)\n",
    "    for obj in root.findall('object'):\n",
    "        label = obj.find(\"name\").text\n",
    "        if label not in classes:\n",
    "            classes.append(label)\n",
    "        index = classes.index(label)\n",
    "        pil_bbox = [int(x.text) for x in obj.find(\"bndbox\")]\n",
    "        yolo_bbox = xml_to_yolo_bbox(pil_bbox, width, height)\n",
    "        bbox_string = \" \".join([str(x) for x in yolo_bbox])\n",
    "        result.append(f\"{index} {bbox_string}\")\n",
    "    if result:\n",
    "        with open(os.path.join(label_path, f\"{filename}.txt\"), \"w\", encoding=\"utf-8\") as f:\n",
    "            f.write(\"\\n\".join(result))"
   ]
  }
 ],
 "metadata": {
  "kernelspec": {
   "display_name": "Python 3 (ipykernel)",
   "language": "python",
   "name": "python3"
  },
  "language_info": {
   "codemirror_mode": {
    "name": "ipython",
    "version": 3
   },
   "file_extension": ".py",
   "mimetype": "text/x-python",
   "name": "python",
   "nbconvert_exporter": "python",
   "pygments_lexer": "ipython3",
   "version": "3.10.14"
  }
 },
 "nbformat": 4,
 "nbformat_minor": 5
}
