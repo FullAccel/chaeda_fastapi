{
 "cells": [
  {
   "cell_type": "code",
   "execution_count": 8,
   "metadata": {},
   "outputs": [],
   "source": [
    "import numpy as np\n",
    "import matplotlib.pyplot as plt\n",
    "import cv2"
   ]
  },
  {
   "cell_type": "code",
   "execution_count": 13,
   "metadata": {},
   "outputs": [
    {
     "name": "stdout",
     "output_type": "stream",
     "text": [
      "(height, width): (280, 256, 3)\n"
     ]
    }
   ],
   "source": [
    "original_image = cv2.imread('./0.png')\n",
    "print(f\"(height, width): {original_image.shape}\")\n",
    "# print(original_image)"
   ]
  },
  {
   "cell_type": "code",
   "execution_count": 28,
   "metadata": {},
   "outputs": [
    {
     "data": {
      "text/plain": [
       "True"
      ]
     },
     "execution_count": 28,
     "metadata": {},
     "output_type": "execute_result"
    }
   ],
   "source": [
    "hsv = cv2.cvtColor(original_image, cv2.COLOR_BGR2HSV)\n",
    "\n",
    "intensity = hsv[:,:,2]\n",
    "\n",
    "threshold_value = 210\n",
    "ret, thresholded_image = cv2.threshold(intensity, threshold_value, 250, cv2.THRESH_BINARY)\n",
    "hsv[:, :, 2] = thresholded_image\n",
    "\n",
    "rgb_image = cv2.cvtColor(hsv, cv2.COLOR_HSV2BGR)\n",
    "\n",
    "cv2.imwrite('./0_enhanced.png', rgb_image)\n"
   ]
  },
  {
   "cell_type": "code",
   "execution_count": 33,
   "metadata": {},
   "outputs": [
    {
     "name": "stdout",
     "output_type": "stream",
     "text": [
      "Saved ./page_1.png\n",
      "Saved ./page_2.png\n",
      "Saved ./page_3.png\n",
      "Saved ./page_4.png\n",
      "Saved ./page_5.png\n",
      "Saved ./page_6.png\n",
      "Saved ./page_7.png\n",
      "Saved ./page_8.png\n",
      "Saved ./page_9.png\n",
      "Saved ./page_10.png\n",
      "Saved ./page_11.png\n",
      "Saved ./page_12.png\n",
      "Saved ./page_13.png\n",
      "Saved ./page_14.png\n",
      "Saved ./page_15.png\n",
      "Saved ./page_16.png\n",
      "Saved ./page_17.png\n",
      "Saved ./page_18.png\n",
      "Saved ./page_19.png\n",
      "Saved ./page_20.png\n",
      "Saved ./page_21.png\n",
      "Saved ./page_22.png\n",
      "Saved ./page_23.png\n",
      "Saved ./page_24.png\n",
      "Saved ./page_25.png\n",
      "Saved ./page_26.png\n",
      "Saved ./page_27.png\n",
      "Saved ./page_28.png\n",
      "Saved ./page_29.png\n",
      "Saved ./page_30.png\n",
      "Saved ./page_31.png\n",
      "Saved ./page_32.png\n",
      "Saved ./page_33.png\n",
      "Saved ./page_34.png\n",
      "Saved ./page_35.png\n",
      "Saved ./page_36.png\n",
      "Saved ./page_37.png\n",
      "Saved ./page_38.png\n",
      "Saved ./page_39.png\n",
      "Saved ./page_40.png\n",
      "Saved ./page_41.png\n",
      "Saved ./page_42.png\n",
      "Saved ./page_43.png\n",
      "Saved ./page_44.png\n",
      "Saved ./page_45.png\n",
      "Saved ./page_46.png\n",
      "Saved ./page_47.png\n",
      "Saved ./page_48.png\n",
      "Saved ./page_49.png\n",
      "Saved ./page_50.png\n",
      "Saved ./page_51.png\n",
      "Saved ./page_52.png\n",
      "Saved ./page_53.png\n",
      "Saved ./page_54.png\n",
      "Saved ./page_55.png\n",
      "Saved ./page_56.png\n",
      "Saved ./page_57.png\n",
      "Saved ./page_58.png\n",
      "Saved ./page_59.png\n",
      "Saved ./page_60.png\n",
      "Saved ./page_61.png\n",
      "Saved ./page_62.png\n",
      "Saved ./page_63.png\n",
      "Saved ./page_64.png\n",
      "Saved ./page_65.png\n"
     ]
    },
    {
     "ename": "KeyboardInterrupt",
     "evalue": "",
     "output_type": "error",
     "traceback": [
      "\u001b[1;31m---------------------------------------------------------------------------\u001b[0m",
      "\u001b[1;31mKeyboardInterrupt\u001b[0m                         Traceback (most recent call last)",
      "\u001b[1;32m~\\AppData\\Local\\Temp\\ipykernel_10308\\2696138275.py\u001b[0m in \u001b[0;36m?\u001b[1;34m()\u001b[0m\n\u001b[0;32m     16\u001b[0m \u001b[1;33m\u001b[0m\u001b[0m\n\u001b[0;32m     17\u001b[0m \u001b[1;31m# 사용 예제\u001b[0m\u001b[1;33m\u001b[0m\u001b[1;33m\u001b[0m\u001b[0m\n\u001b[0;32m     18\u001b[0m \u001b[0mpdf_path\u001b[0m \u001b[1;33m=\u001b[0m \u001b[1;34mr'C:\\Users\\aiotu\\Projects\\GradProj\\cheada_fastapi\\books\\[블랙라벨] 수학 II.pdf'\u001b[0m\u001b[1;33m\u001b[0m\u001b[1;33m\u001b[0m\u001b[0m\n\u001b[0;32m     19\u001b[0m \u001b[0moutput_folder\u001b[0m \u001b[1;33m=\u001b[0m \u001b[1;34m'.'\u001b[0m\u001b[1;33m\u001b[0m\u001b[1;33m\u001b[0m\u001b[0m\n\u001b[1;32m---> 20\u001b[1;33m \u001b[0mpdf_to_png\u001b[0m\u001b[1;33m(\u001b[0m\u001b[0mpdf_path\u001b[0m\u001b[1;33m,\u001b[0m \u001b[0moutput_folder\u001b[0m\u001b[1;33m)\u001b[0m\u001b[1;33m\u001b[0m\u001b[1;33m\u001b[0m\u001b[0m\n\u001b[0m",
      "\u001b[1;32m~\\AppData\\Local\\Temp\\ipykernel_10308\\2696138275.py\u001b[0m in \u001b[0;36m?\u001b[1;34m(pdf_path, output_folder, dpi)\u001b[0m\n\u001b[0;32m      8\u001b[0m \u001b[1;33m\u001b[0m\u001b[0m\n\u001b[0;32m      9\u001b[0m     \u001b[1;32mfor\u001b[0m \u001b[0mpage_num\u001b[0m \u001b[1;32min\u001b[0m \u001b[0mrange\u001b[0m\u001b[1;33m(\u001b[0m\u001b[0mdocument\u001b[0m\u001b[1;33m.\u001b[0m\u001b[0mpage_count\u001b[0m\u001b[1;33m)\u001b[0m\u001b[1;33m:\u001b[0m\u001b[1;33m\u001b[0m\u001b[1;33m\u001b[0m\u001b[0m\n\u001b[0;32m     10\u001b[0m         \u001b[1;31m# 페이지를 가져옵니다\u001b[0m\u001b[1;33m\u001b[0m\u001b[1;33m\u001b[0m\u001b[0m\n\u001b[0;32m     11\u001b[0m         \u001b[0mpage\u001b[0m \u001b[1;33m=\u001b[0m \u001b[0mdocument\u001b[0m\u001b[1;33m.\u001b[0m\u001b[0mload_page\u001b[0m\u001b[1;33m(\u001b[0m\u001b[0mpage_num\u001b[0m\u001b[1;33m)\u001b[0m\u001b[1;33m\u001b[0m\u001b[1;33m\u001b[0m\u001b[0m\n\u001b[1;32m---> 12\u001b[1;33m         \u001b[0mpix\u001b[0m \u001b[1;33m=\u001b[0m \u001b[0mpage\u001b[0m\u001b[1;33m.\u001b[0m\u001b[0mget_pixmap\u001b[0m\u001b[1;33m(\u001b[0m\u001b[0mmatrix\u001b[0m\u001b[1;33m=\u001b[0m\u001b[0mmat\u001b[0m\u001b[1;33m)\u001b[0m\u001b[1;33m\u001b[0m\u001b[1;33m\u001b[0m\u001b[0m\n\u001b[0m\u001b[0;32m     13\u001b[0m         \u001b[0moutput_path\u001b[0m \u001b[1;33m=\u001b[0m \u001b[1;34mf\"{output_folder}/page_{page_num + 1}.png\"\u001b[0m\u001b[1;33m\u001b[0m\u001b[1;33m\u001b[0m\u001b[0m\n\u001b[0;32m     14\u001b[0m         \u001b[0mpix\u001b[0m\u001b[1;33m.\u001b[0m\u001b[0msave\u001b[0m\u001b[1;33m(\u001b[0m\u001b[0moutput_path\u001b[0m\u001b[1;33m)\u001b[0m\u001b[1;33m\u001b[0m\u001b[1;33m\u001b[0m\u001b[0m\n\u001b[0;32m     15\u001b[0m         \u001b[0mprint\u001b[0m\u001b[1;33m(\u001b[0m\u001b[1;34mf\"Saved {output_path}\"\u001b[0m\u001b[1;33m)\u001b[0m\u001b[1;33m\u001b[0m\u001b[1;33m\u001b[0m\u001b[0m\n",
      "\u001b[1;32mc:\\Users\\aiotu\\anaconda3\\envs\\py310\\lib\\site-packages\\fitz\\utils.py\u001b[0m in \u001b[0;36m?\u001b[1;34m(page, matrix, dpi, colorspace, clip, alpha, annots)\u001b[0m\n\u001b[0;32m    885\u001b[0m     \u001b[1;32mif\u001b[0m \u001b[0mcolorspace\u001b[0m\u001b[1;33m.\u001b[0m\u001b[0mn\u001b[0m \u001b[1;32mnot\u001b[0m \u001b[1;32min\u001b[0m \u001b[1;33m(\u001b[0m\u001b[1;36m1\u001b[0m\u001b[1;33m,\u001b[0m \u001b[1;36m3\u001b[0m\u001b[1;33m,\u001b[0m \u001b[1;36m4\u001b[0m\u001b[1;33m)\u001b[0m\u001b[1;33m:\u001b[0m\u001b[1;33m\u001b[0m\u001b[1;33m\u001b[0m\u001b[0m\n\u001b[0;32m    886\u001b[0m         \u001b[1;32mraise\u001b[0m \u001b[0mValueError\u001b[0m\u001b[1;33m(\u001b[0m\u001b[1;34m\"unsupported colorspace\"\u001b[0m\u001b[1;33m)\u001b[0m\u001b[1;33m\u001b[0m\u001b[1;33m\u001b[0m\u001b[0m\n\u001b[0;32m    887\u001b[0m \u001b[1;33m\u001b[0m\u001b[0m\n\u001b[0;32m    888\u001b[0m     \u001b[0mdl\u001b[0m \u001b[1;33m=\u001b[0m \u001b[0mpage\u001b[0m\u001b[1;33m.\u001b[0m\u001b[0mget_displaylist\u001b[0m\u001b[1;33m(\u001b[0m\u001b[0mannots\u001b[0m\u001b[1;33m=\u001b[0m\u001b[0mannots\u001b[0m\u001b[1;33m)\u001b[0m\u001b[1;33m\u001b[0m\u001b[1;33m\u001b[0m\u001b[0m\n\u001b[1;32m--> 889\u001b[1;33m     \u001b[0mpix\u001b[0m \u001b[1;33m=\u001b[0m \u001b[0mdl\u001b[0m\u001b[1;33m.\u001b[0m\u001b[0mget_pixmap\u001b[0m\u001b[1;33m(\u001b[0m\u001b[0mmatrix\u001b[0m\u001b[1;33m=\u001b[0m\u001b[0mmatrix\u001b[0m\u001b[1;33m,\u001b[0m \u001b[0mcolorspace\u001b[0m\u001b[1;33m=\u001b[0m\u001b[0mcolorspace\u001b[0m\u001b[1;33m,\u001b[0m \u001b[0malpha\u001b[0m\u001b[1;33m=\u001b[0m\u001b[0malpha\u001b[0m\u001b[1;33m,\u001b[0m \u001b[0mclip\u001b[0m\u001b[1;33m=\u001b[0m\u001b[0mclip\u001b[0m\u001b[1;33m)\u001b[0m\u001b[1;33m\u001b[0m\u001b[1;33m\u001b[0m\u001b[0m\n\u001b[0m\u001b[0;32m    890\u001b[0m     \u001b[0mdl\u001b[0m \u001b[1;33m=\u001b[0m \u001b[1;32mNone\u001b[0m\u001b[1;33m\u001b[0m\u001b[1;33m\u001b[0m\u001b[0m\n\u001b[0;32m    891\u001b[0m     \u001b[1;32mif\u001b[0m \u001b[0mdpi\u001b[0m\u001b[1;33m:\u001b[0m\u001b[1;33m\u001b[0m\u001b[1;33m\u001b[0m\u001b[0m\n\u001b[0;32m    892\u001b[0m         \u001b[0mpix\u001b[0m\u001b[1;33m.\u001b[0m\u001b[0mset_dpi\u001b[0m\u001b[1;33m(\u001b[0m\u001b[0mdpi\u001b[0m\u001b[1;33m,\u001b[0m \u001b[0mdpi\u001b[0m\u001b[1;33m)\u001b[0m\u001b[1;33m\u001b[0m\u001b[1;33m\u001b[0m\u001b[0m\n",
      "\u001b[1;32mc:\\Users\\aiotu\\anaconda3\\envs\\py310\\lib\\site-packages\\fitz\\__init__.py\u001b[0m in \u001b[0;36m?\u001b[1;34m(self, matrix, colorspace, alpha, clip)\u001b[0m\n\u001b[0;32m   2530\u001b[0m         \u001b[1;32mif\u001b[0m \u001b[0misinstance\u001b[0m\u001b[1;33m(\u001b[0m\u001b[0mcolorspace\u001b[0m\u001b[1;33m,\u001b[0m \u001b[0mColorspace\u001b[0m\u001b[1;33m)\u001b[0m\u001b[1;33m:\u001b[0m\u001b[1;33m\u001b[0m\u001b[1;33m\u001b[0m\u001b[0m\n\u001b[0;32m   2531\u001b[0m             \u001b[0mcolorspace\u001b[0m \u001b[1;33m=\u001b[0m \u001b[0mcolorspace\u001b[0m\u001b[1;33m.\u001b[0m\u001b[0mthis\u001b[0m\u001b[1;33m\u001b[0m\u001b[1;33m\u001b[0m\u001b[0m\n\u001b[0;32m   2532\u001b[0m         \u001b[1;32melse\u001b[0m\u001b[1;33m:\u001b[0m\u001b[1;33m\u001b[0m\u001b[1;33m\u001b[0m\u001b[0m\n\u001b[0;32m   2533\u001b[0m             \u001b[0mcolorspace\u001b[0m \u001b[1;33m=\u001b[0m \u001b[0mmupdf\u001b[0m\u001b[1;33m.\u001b[0m\u001b[0mFzColorspace\u001b[0m\u001b[1;33m(\u001b[0m\u001b[0mmupdf\u001b[0m\u001b[1;33m.\u001b[0m\u001b[0mFzColorspace\u001b[0m\u001b[1;33m.\u001b[0m\u001b[0mFixed_RGB\u001b[0m\u001b[1;33m)\u001b[0m\u001b[1;33m\u001b[0m\u001b[1;33m\u001b[0m\u001b[0m\n\u001b[1;32m-> 2534\u001b[1;33m         \u001b[0mval\u001b[0m \u001b[1;33m=\u001b[0m \u001b[0mJM_pixmap_from_display_list\u001b[0m\u001b[1;33m(\u001b[0m\u001b[0mself\u001b[0m\u001b[1;33m.\u001b[0m\u001b[0mthis\u001b[0m\u001b[1;33m,\u001b[0m \u001b[0mmatrix\u001b[0m\u001b[1;33m,\u001b[0m \u001b[0mcolorspace\u001b[0m\u001b[1;33m,\u001b[0m \u001b[0malpha\u001b[0m\u001b[1;33m,\u001b[0m \u001b[0mclip\u001b[0m\u001b[1;33m,\u001b[0m \u001b[1;32mNone\u001b[0m\u001b[1;33m)\u001b[0m\u001b[1;33m\u001b[0m\u001b[1;33m\u001b[0m\u001b[0m\n\u001b[0m\u001b[0;32m   2535\u001b[0m         \u001b[0mval\u001b[0m\u001b[1;33m.\u001b[0m\u001b[0mthisown\u001b[0m \u001b[1;33m=\u001b[0m \u001b[1;32mTrue\u001b[0m\u001b[1;33m\u001b[0m\u001b[1;33m\u001b[0m\u001b[0m\n\u001b[0;32m   2536\u001b[0m         \u001b[1;32mreturn\u001b[0m \u001b[0mval\u001b[0m\u001b[1;33m\u001b[0m\u001b[1;33m\u001b[0m\u001b[0m\n",
      "\u001b[1;32mc:\\Users\\aiotu\\anaconda3\\envs\\py310\\lib\\site-packages\\fitz\\__init__.py\u001b[0m in \u001b[0;36m?\u001b[1;34m(list_, ctm, cs, alpha, clip, seps)\u001b[0m\n\u001b[0;32m  17087\u001b[0m         \u001b[0mdev\u001b[0m \u001b[1;33m=\u001b[0m \u001b[0mmupdf\u001b[0m\u001b[1;33m.\u001b[0m\u001b[0mfz_new_draw_device_with_bbox\u001b[0m\u001b[1;33m(\u001b[0m\u001b[0mmatrix\u001b[0m\u001b[1;33m,\u001b[0m \u001b[0mpix\u001b[0m\u001b[1;33m,\u001b[0m \u001b[0mirect\u001b[0m\u001b[1;33m)\u001b[0m\u001b[1;33m\u001b[0m\u001b[1;33m\u001b[0m\u001b[0m\n\u001b[0;32m  17088\u001b[0m         \u001b[0mmupdf\u001b[0m\u001b[1;33m.\u001b[0m\u001b[0mfz_run_display_list\u001b[0m\u001b[1;33m(\u001b[0m\u001b[0mlist_\u001b[0m\u001b[1;33m,\u001b[0m \u001b[0mdev\u001b[0m\u001b[1;33m,\u001b[0m \u001b[0mmupdf\u001b[0m\u001b[1;33m.\u001b[0m\u001b[0mFzMatrix\u001b[0m\u001b[1;33m(\u001b[0m\u001b[1;33m)\u001b[0m\u001b[1;33m,\u001b[0m \u001b[0mrclip\u001b[0m\u001b[1;33m,\u001b[0m \u001b[0mmupdf\u001b[0m\u001b[1;33m.\u001b[0m\u001b[0mFzCookie\u001b[0m\u001b[1;33m(\u001b[0m\u001b[1;33m)\u001b[0m\u001b[1;33m)\u001b[0m\u001b[1;33m\u001b[0m\u001b[1;33m\u001b[0m\u001b[0m\n\u001b[0;32m  17089\u001b[0m     \u001b[1;32melse\u001b[0m\u001b[1;33m:\u001b[0m\u001b[1;33m\u001b[0m\u001b[1;33m\u001b[0m\u001b[0m\n\u001b[0;32m  17090\u001b[0m         \u001b[0mdev\u001b[0m \u001b[1;33m=\u001b[0m \u001b[0mmupdf\u001b[0m\u001b[1;33m.\u001b[0m\u001b[0mfz_new_draw_device\u001b[0m\u001b[1;33m(\u001b[0m\u001b[0mmatrix\u001b[0m\u001b[1;33m,\u001b[0m \u001b[0mpix\u001b[0m\u001b[1;33m)\u001b[0m\u001b[1;33m\u001b[0m\u001b[1;33m\u001b[0m\u001b[0m\n\u001b[1;32m> 17091\u001b[1;33m         \u001b[0mmupdf\u001b[0m\u001b[1;33m.\u001b[0m\u001b[0mfz_run_display_list\u001b[0m\u001b[1;33m(\u001b[0m\u001b[0mlist_\u001b[0m\u001b[1;33m,\u001b[0m \u001b[0mdev\u001b[0m\u001b[1;33m,\u001b[0m \u001b[0mmupdf\u001b[0m\u001b[1;33m.\u001b[0m\u001b[0mFzMatrix\u001b[0m\u001b[1;33m(\u001b[0m\u001b[1;33m)\u001b[0m\u001b[1;33m,\u001b[0m \u001b[0mmupdf\u001b[0m\u001b[1;33m.\u001b[0m\u001b[0mFzRect\u001b[0m\u001b[1;33m(\u001b[0m\u001b[0mmupdf\u001b[0m\u001b[1;33m.\u001b[0m\u001b[0mFzRect\u001b[0m\u001b[1;33m.\u001b[0m\u001b[0mFixed_INFINITE\u001b[0m\u001b[1;33m)\u001b[0m\u001b[1;33m,\u001b[0m \u001b[0mmupdf\u001b[0m\u001b[1;33m.\u001b[0m\u001b[0mFzCookie\u001b[0m\u001b[1;33m(\u001b[0m\u001b[1;33m)\u001b[0m\u001b[1;33m)\u001b[0m\u001b[1;33m\u001b[0m\u001b[1;33m\u001b[0m\u001b[0m\n\u001b[0m\u001b[0;32m  17092\u001b[0m \u001b[1;33m\u001b[0m\u001b[0m\n\u001b[0;32m  17093\u001b[0m     \u001b[0mmupdf\u001b[0m\u001b[1;33m.\u001b[0m\u001b[0mfz_close_device\u001b[0m\u001b[1;33m(\u001b[0m\u001b[0mdev\u001b[0m\u001b[1;33m)\u001b[0m\u001b[1;33m\u001b[0m\u001b[1;33m\u001b[0m\u001b[0m\n\u001b[0;32m  17094\u001b[0m     \u001b[1;31m# Use special raw Pixmap constructor so we don't set alpha to true.\u001b[0m\u001b[1;33m\u001b[0m\u001b[1;33m\u001b[0m\u001b[0m\n",
      "\u001b[1;31mKeyboardInterrupt\u001b[0m: "
     ]
    }
   ],
   "source": [
    "import fitz  # PyMuPDF\n",
    "\n",
    "def pdf_to_png(pdf_path, output_folder, dpi=300):\n",
    "    # PDF 문서를 엽니다\n",
    "    document = fitz.open(pdf_path)\n",
    "    zoom = dpi / 72  # 72는 PDF의 기본 DPI\n",
    "    mat = fitz.Matrix(zoom, zoom)\n",
    "    \n",
    "    for page_num in range(document.page_count):\n",
    "        # 페이지를 가져옵니다\n",
    "        page = document.load_page(page_num)\n",
    "        pix = page.get_pixmap(matrix=mat)\n",
    "        output_path = f\"{output_folder}/page_{page_num + 1}.png\"\n",
    "        pix.save(output_path)\n",
    "        print(f\"Saved {output_path}\")\n",
    "        \n",
    "# 사용 예제\n",
    "pdf_path = r'C:\\Users\\aiotu\\Projects\\GradProj\\cheada_fastapi\\books\\[블랙라벨] 수학 II.pdf'\n",
    "output_folder = '.'\n",
    "pdf_to_png(pdf_path, output_folder)"
   ]
  },
  {
   "cell_type": "code",
   "execution_count": null,
   "metadata": {},
   "outputs": [],
   "source": []
  }
 ],
 "metadata": {
  "kernelspec": {
   "display_name": "py310",
   "language": "python",
   "name": "python3"
  },
  "language_info": {
   "codemirror_mode": {
    "name": "ipython",
    "version": 3
   },
   "file_extension": ".py",
   "mimetype": "text/x-python",
   "name": "python",
   "nbconvert_exporter": "python",
   "pygments_lexer": "ipython3",
   "version": "3.10.14"
  }
 },
 "nbformat": 4,
 "nbformat_minor": 2
}
