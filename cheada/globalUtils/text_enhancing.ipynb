{
 "cells": [
  {
   "cell_type": "code",
   "execution_count": 8,
   "metadata": {},
   "outputs": [],
   "source": [
    "import numpy as np\n",
    "import matplotlib.pyplot as plt\n",
    "import cv2"
   ]
  },
  {
   "cell_type": "code",
   "execution_count": 13,
   "metadata": {},
   "outputs": [
    {
     "name": "stdout",
     "output_type": "stream",
     "text": [
      "(height, width): (280, 256, 3)\n"
     ]
    }
   ],
   "source": [
    "original_image = cv2.imread('./0.png')\n",
    "print(f\"(height, width): {original_image.shape}\")\n",
    "# print(original_image)"
   ]
  },
  {
   "cell_type": "code",
   "execution_count": 28,
   "metadata": {},
   "outputs": [
    {
     "data": {
      "text/plain": [
       "True"
      ]
     },
     "execution_count": 28,
     "metadata": {},
     "output_type": "execute_result"
    }
   ],
   "source": [
    "hsv = cv2.cvtColor(original_image, cv2.COLOR_BGR2HSV)\n",
    "\n",
    "intensity = hsv[:,:,2]\n",
    "\n",
    "threshold_value = 210\n",
    "ret, thresholded_image = cv2.threshold(intensity, threshold_value, 250, cv2.THRESH_BINARY)\n",
    "hsv[:, :, 2] = thresholded_image\n",
    "\n",
    "rgb_image = cv2.cvtColor(hsv, cv2.COLOR_HSV2BGR)\n",
    "\n",
    "cv2.imwrite('./0_enhanced.png', rgb_image)\n"
   ]
  },
  {
   "cell_type": "code",
   "execution_count": 1,
   "metadata": {},
   "outputs": [
    {
     "name": "stdout",
     "output_type": "stream",
     "text": [
      "Saved ./page_1.png\n",
      "Saved ./page_2.png\n",
      "Saved ./page_3.png\n",
      "Saved ./page_4.png\n",
      "Saved ./page_5.png\n",
      "Saved ./page_6.png\n",
      "Saved ./page_7.png\n",
      "Saved ./page_8.png\n",
      "Saved ./page_9.png\n",
      "Saved ./page_10.png\n",
      "Saved ./page_11.png\n",
      "Saved ./page_12.png\n",
      "Saved ./page_13.png\n",
      "Saved ./page_14.png\n",
      "Saved ./page_15.png\n",
      "Saved ./page_16.png\n",
      "Saved ./page_17.png\n",
      "Saved ./page_18.png\n",
      "Saved ./page_19.png\n",
      "Saved ./page_20.png\n",
      "Saved ./page_21.png\n",
      "Saved ./page_22.png\n",
      "Saved ./page_23.png\n",
      "Saved ./page_24.png\n",
      "Saved ./page_25.png\n",
      "Saved ./page_26.png\n",
      "Saved ./page_27.png\n",
      "Saved ./page_28.png\n",
      "Saved ./page_29.png\n",
      "Saved ./page_30.png\n",
      "Saved ./page_31.png\n",
      "Saved ./page_32.png\n",
      "Saved ./page_33.png\n",
      "Saved ./page_34.png\n",
      "Saved ./page_35.png\n",
      "Saved ./page_36.png\n",
      "Saved ./page_37.png\n",
      "Saved ./page_38.png\n",
      "Saved ./page_39.png\n",
      "Saved ./page_40.png\n",
      "Saved ./page_41.png\n",
      "Saved ./page_42.png\n",
      "Saved ./page_43.png\n",
      "Saved ./page_44.png\n",
      "Saved ./page_45.png\n",
      "Saved ./page_46.png\n",
      "Saved ./page_47.png\n",
      "Saved ./page_48.png\n",
      "Saved ./page_49.png\n",
      "Saved ./page_50.png\n",
      "Saved ./page_51.png\n",
      "Saved ./page_52.png\n",
      "Saved ./page_53.png\n",
      "Saved ./page_54.png\n",
      "Saved ./page_55.png\n",
      "Saved ./page_56.png\n",
      "Saved ./page_57.png\n",
      "Saved ./page_58.png\n",
      "Saved ./page_59.png\n",
      "Saved ./page_60.png\n",
      "Saved ./page_61.png\n",
      "Saved ./page_62.png\n",
      "Saved ./page_63.png\n",
      "Saved ./page_64.png\n",
      "Saved ./page_65.png\n",
      "Saved ./page_66.png\n",
      "Saved ./page_67.png\n",
      "Saved ./page_68.png\n",
      "Saved ./page_69.png\n",
      "Saved ./page_70.png\n",
      "Saved ./page_71.png\n",
      "Saved ./page_72.png\n",
      "Saved ./page_73.png\n",
      "Saved ./page_74.png\n",
      "Saved ./page_75.png\n",
      "Saved ./page_76.png\n",
      "Saved ./page_77.png\n",
      "Saved ./page_78.png\n",
      "Saved ./page_79.png\n",
      "Saved ./page_80.png\n",
      "Saved ./page_81.png\n",
      "Saved ./page_82.png\n",
      "Saved ./page_83.png\n",
      "Saved ./page_84.png\n",
      "Saved ./page_85.png\n",
      "Saved ./page_86.png\n",
      "Saved ./page_87.png\n",
      "Saved ./page_88.png\n",
      "Saved ./page_89.png\n",
      "Saved ./page_90.png\n"
     ]
    }
   ],
   "source": [
    "import fitz  # PyMuPDF\n",
    "\n",
    "def pdf_to_png(pdf_path, output_folder, dpi=300):\n",
    "    # PDF 문서를 엽니다\n",
    "    document = fitz.open(pdf_path)\n",
    "    zoom = dpi / 72  # 72는 PDF의 기본 DPI\n",
    "    mat = fitz.Matrix(zoom, zoom)\n",
    "    \n",
    "    for page_num in range(document.page_count):\n",
    "        # 페이지를 가져옵니다\n",
    "        page = document.load_page(page_num)\n",
    "        pix = page.get_pixmap(matrix=mat)\n",
    "        output_path = f\"{output_folder}/page_{page_num + 1}.png\"\n",
    "        pix.save(output_path)\n",
    "        print(f\"Saved {output_path}\")\n",
    "        \n",
    "        \n",
    "# 사용 예제\n",
    "pdf_path = r'C:\\Users\\aiotu\\Projects\\GradProj\\cheada_fastapi\\books\\[블랙라벨] 수학 II.pdf'\n",
    "output_folder = '.'\n",
    "pdf_to_png(pdf_path, output_folder)"
   ]
  },
  {
   "cell_type": "code",
   "execution_count": null,
   "metadata": {},
   "outputs": [],
   "source": []
  }
 ],
 "metadata": {
  "kernelspec": {
   "display_name": "py310",
   "language": "python",
   "name": "python3"
  },
  "language_info": {
   "codemirror_mode": {
    "name": "ipython",
    "version": 3
   },
   "file_extension": ".py",
   "mimetype": "text/x-python",
   "name": "python",
   "nbconvert_exporter": "python",
   "pygments_lexer": "ipython3",
   "version": "3.10.14"
  }
 },
 "nbformat": 4,
 "nbformat_minor": 2
}
