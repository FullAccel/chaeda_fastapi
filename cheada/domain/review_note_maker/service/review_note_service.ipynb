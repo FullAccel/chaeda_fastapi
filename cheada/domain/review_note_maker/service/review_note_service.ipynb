{
 "cells": [
  {
   "cell_type": "code",
   "metadata": {
    "ExecuteTime": {
     "end_time": "2024-05-26T11:55:09.852089Z",
     "start_time": "2024-05-26T11:55:09.848367Z"
    }
   },
   "source": [
    "import cv2\n",
    "from reportlab.lib.pagesizes import A4\n",
    "from reportlab.pdfgen import canvas\n",
    "import os\n",
<<<<<<< HEAD
    "import tempfile"
   ],
   "outputs": [],
   "execution_count": 6
=======
    "import tempfile\n",
    "\n"
   ]
>>>>>>> origin/dev
  },
  {
   "cell_type": "code",
   "metadata": {
    "ExecuteTime": {
     "end_time": "2024-05-26T11:55:12.371536Z",
     "start_time": "2024-05-26T11:55:12.360468Z"
    }
   },
   "source": [
    "def convert_images_to_pdf(image_folder, output_pdf):\n",
    "    # 페이지 사이즈 정의 (A4)\n",
    "    page_width, page_height = A4\n",
    "\n",
    "    # 이미지 파일 목록 가져오기\n",
    "    image_files = [f for f in os.listdir(image_folder) if f.endswith('.png')]\n",
    "    \n",
    "    # 이미지 파일 크기 나누기\n",
    "    threshold = 500\n",
    "    large_problems = []\n",
    "    small_problems = []\n",
    "    img_path_list = []\n",
    "    for file in image_files:\n",
    "        img_path = os.path.join(image_folder, file)\n",
    "        img = cv2.imread(img_path)\n",
    "        img_height, img_width, _ = img.shape\n",
    "        if img_height >= threshold:\n",
    "            large_problems.append(img)\n",
    "        else:\n",
    "            small_problems.append(img)\n",
    "        img_path_list.append(img_path)\n",
    "\n",
    "\n",
    "    c = canvas.Canvas(output_pdf, pagesize=A4)\n",
    "\n",
    "    left_page_full = False\n",
    "    for i, img in enumerate(large_problems):\n",
    "        img_height, img_width, _ = img.shape\n",
    "        # 이미지의 높이가 일정 값 이상인 경우에는 절반 구역에 하나만 맨 위에 배치\n",
    "        # new_height = page_height / 2\n",
    "        # new_width = int((new_height / img_height) * img_width)\n",
    "        # resized_img = cv2.resize(img, (new_width, int(new_height)), interpolation=cv2.INTER_AREA)\n",
    "\n",
    "        # temp_img_path = save_temp_image(resized_img)\n",
    "\n",
    "        if left_page_full:\n",
    "            c.drawImage(img_path_list[i], page_width / 2, page_height - img_height - 20)\n",
    "            c.showPage()\n",
    "        else:\n",
    "            c.drawImage(img_path_list[i], 10, page_height - img_height - 20)\n",
    "        left_page_full != left_page_full\n",
    "        \n",
    "    for i, img in enumerate(small_problems):\n",
    "        img_height, img_width, _ = img.shape\n",
    "\n",
    "        # 이미지의 가로 길이를 페이지의 절반에 맞추어 조정\n",
    "        # new_width = page_width / 2\n",
    "        # new_height = int((new_width / img_width) * img_height)\n",
    "        # resized_img = cv2.resize(img, (int(new_width), new_height), interpolation=cv2.INTER_AREA)\n",
    "\n",
    "        # temp_img_path = save_temp_image(resized_img)\n",
    "        \n",
    "        # 이미지 배치\n",
    "        if left_page_full:\n",
    "            if i % 2 == 0:\n",
    "                c.drawImage(img_path_list[i], page_width / 2, page_height - img_height - 20)\n",
    "            else:\n",
    "                c.drawImage(img_path_list[i], page_width / 2, page_height / 2 - img_height - 20)\n",
    "                left_page_full = False\n",
    "                c.showPage()\n",
    "        else:\n",
    "            if i % 2 == 0:\n",
    "                c.drawImage(img_path_list[i], 10, page_height - img_height - 20)\n",
    "            else:\n",
    "                c.drawImage(img_path_list[i], 10, page_height / 2 - img_height - 20)\n",
    "                left_page_full = True\n",
    "        \n",
    "\n",
    "    c.save()\n",
    "    print(f\"PDF 파일이 성공적으로 생성되었습니다: {output_pdf}\")\n",
    "\n",
    "def save_temp_image(image):\n",
    "    temp_file = tempfile.NamedTemporaryFile(delete=False, suffix='.png')\n",
    "    temp_path = temp_file.name\n",
    "    cv2.imwrite(temp_path, image)\n",
    "    return temp_path"
   ],
   "outputs": [],
   "execution_count": 7
  },
  {
   "metadata": {
    "ExecuteTime": {
     "end_time": "2024-05-26T12:00:54.910790Z",
     "start_time": "2024-05-26T12:00:54.905677Z"
    }
   },
   "cell_type": "code",
   "source": "print(os.getcwd())",
   "outputs": [
    {
     "name": "stdout",
     "output_type": "stream",
     "text": [
<<<<<<< HEAD
      "/Users/mac/PycharmProjects/chaeda_fastapi/cheada/domain/review_note_maker/service\n"
=======
      "PDF 파일이 성공적으로 생성되었습니다: 블랙라벨 수학 II_editted.pdf\n"
>>>>>>> origin/dev
     ]
    }
   ],
   "execution_count": 13
  },
  {
   "cell_type": "code",
   "metadata": {
    "ExecuteTime": {
     "end_time": "2024-05-26T12:01:20.154332Z",
     "start_time": "2024-05-26T12:01:20.110872Z"
    }
   },
   "source": [
    "# 이미지 폴더 경로 및 출력 PDF 파일 이름 설정\n",
    "\n",
    "textbook_name = \"블랙라벨 수학 II\"\n",
    "output_pdf = f'{textbook_name}_editted.pdf'\n",
    "\n",
<<<<<<< HEAD
    "convert_images_to_pdf('/Users/mac/PycharmProjects/chaeda_fastapi/cheada/domain/review_note_maker/service/temp_problem_storage', output_pdf)"
   ],
   "outputs": [
    {
     "name": "stdout",
     "output_type": "stream",
     "text": [
      "PDF 파일이 성공적으로 생성되었습니다: 블랙라벨 수학 II_editted.pdf\n"
     ]
    }
   ],
   "execution_count": 14
=======
    "convert_images_to_pdf(r'C:\\Users\\aiotu\\Projects\\GradProj\\cheada_fastapi\\cheada\\globalUtils\\temp_problem_storage', output_pdf)"
   ]
>>>>>>> origin/dev
  },
  {
   "cell_type": "code",
   "execution_count": null,
   "metadata": {},
   "outputs": [],
   "source": [
    "def download_textbook_from_s3(filename, file_location):\n",
    "    \"\"\"\n",
    "    \n",
    "    :param filename: \n",
    "    :param file_location: \n",
    "    :return: \n",
    "    \"\"\"\n",
    "    s3_utils.download_file_from_s3(filename, file_location)"
   ]
  },
  {
   "cell_type": "code",
   "execution_count": null,
   "metadata": {},
   "outputs": [],
   "source": []
  }
 ],
 "metadata": {
  "kernelspec": {
   "display_name": "py310",
   "language": "python",
   "name": "python3"
  },
  "language_info": {
   "codemirror_mode": {
    "name": "ipython",
    "version": 3
   },
   "file_extension": ".py",
   "mimetype": "text/x-python",
   "name": "python",
   "nbconvert_exporter": "python",
   "pygments_lexer": "ipython3",
   "version": "3.10.14"
  }
 },
 "nbformat": 4,
 "nbformat_minor": 2
}
