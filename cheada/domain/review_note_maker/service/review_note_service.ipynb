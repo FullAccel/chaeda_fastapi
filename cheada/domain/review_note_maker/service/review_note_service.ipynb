{
 "cells": [
  {
   "cell_type": "code",
   "metadata": {
    "ExecuteTime": {
     "end_time": "2024-05-28T03:26:40.232161Z",
     "start_time": "2024-05-28T03:26:39.799503Z"
    }
   },
   "source": [
    "import cv2\n",
    "from reportlab.lib.pagesizes import A4\n",
    "from reportlab.pdfgen import canvas\n",
    "import os\n",
    "import tempfile\n",
    "\n"
   ],
   "outputs": [],
   "execution_count": 1
  },
  {
   "cell_type": "code",
   "metadata": {
    "ExecuteTime": {
     "end_time": "2024-05-28T03:26:42.166788Z",
     "start_time": "2024-05-28T03:26:42.135269Z"
    }
   },
   "source": [
    "def convert_images_to_pdf(image_folder, output_pdf):\n",
    "    # 페이지 사이즈 정의 (A4)\n",
    "    page_width, page_height = A4\n",
    "\n",
    "    # 이미지 파일 목록 가져오기\n",
    "    image_files = [f for f in os.listdir(image_folder) if f.endswith('.png')]\n",
    "    \n",
    "    # 이미지 파일 크기 나누기\n",
    "    threshold = 500\n",
    "    large_problems = []\n",
    "    small_problems = []\n",
    "    img_path_list = []\n",
    "    for file in image_files:\n",
    "        img_path = os.path.join(image_folder, file)\n",
    "        img = cv2.imread(img_path)\n",
    "        img_height, img_width, _ = img.shape\n",
    "        if img_height >= threshold:\n",
    "            large_problems.append(img)\n",
    "        else:\n",
    "            small_problems.append(img)\n",
    "        img_path_list.append(img_path)\n",
    "\n",
    "\n",
    "    c = canvas.Canvas(output_pdf, pagesize=A4)\n",
    "\n",
    "    left_page_full = False\n",
    "    for i, img in enumerate(large_problems):\n",
    "        img_height, img_width, _ = img.shape\n",
    "        # 이미지의 높이가 일정 값 이상인 경우에는 절반 구역에 하나만 맨 위에 배치\n",
    "        # new_height = page_height / 2\n",
    "        # new_width = int((new_height / img_height) * img_width)\n",
    "        # resized_img = cv2.resize(img, (new_width, int(new_height)), interpolation=cv2.INTER_AREA)\n",
    "\n",
    "        # temp_img_path = save_temp_image(resized_img)\n",
    "\n",
    "        if left_page_full:\n",
    "            c.drawImage(img_path_list[i], page_width / 2, page_height - img_height - 20)\n",
    "            c.showPage()\n",
    "        else:\n",
    "            c.drawImage(img_path_list[i], 10, page_height - img_height - 20)\n",
    "        left_page_full != left_page_full\n",
    "        \n",
    "    for i, img in enumerate(small_problems):\n",
    "        img_height, img_width, _ = img.shape\n",
    "\n",
    "        # 이미지의 가로 길이를 페이지의 절반에 맞추어 조정\n",
    "        # new_width = page_width / 2\n",
    "        # new_height = int((new_width / img_width) * img_height)\n",
    "        # resized_img = cv2.resize(img, (int(new_width), new_height), interpolation=cv2.INTER_AREA)\n",
    "\n",
    "        # temp_img_path = save_temp_image(resized_img)\n",
    "        \n",
    "        # 이미지 배치\n",
    "        if left_page_full:\n",
    "            if i % 2 == 0:\n",
    "                c.drawImage(img_path_list[i], page_width / 2, page_height - img_height - 20)\n",
    "            else:\n",
    "                c.drawImage(img_path_list[i], page_width / 2, page_height / 2 - img_height - 20)\n",
    "                left_page_full = False\n",
    "                c.showPage()\n",
    "        else:\n",
    "            if i % 2 == 0:\n",
    "                c.drawImage(img_path_list[i], 10, page_height - img_height - 20)\n",
    "            else:\n",
    "                c.drawImage(img_path_list[i], 10, page_height / 2 - img_height - 20)\n",
    "                left_page_full = True\n",
    "        \n",
    "\n",
    "    c.save()\n",
    "    print(f\"PDF 파일이 성공적으로 생성되었습니다: {output_pdf}\")\n",
    "\n",
    "def save_temp_image(image):\n",
    "    temp_file = tempfile.NamedTemporaryFile(delete=False, suffix='.png')\n",
    "    temp_path = temp_file.name\n",
    "    cv2.imwrite(temp_path, image)\n",
    "    return temp_path"
   ],
   "outputs": [],
   "execution_count": 2
  },
  {
   "cell_type": "code",
   "metadata": {
    "ExecuteTime": {
     "end_time": "2024-05-28T03:26:46.132274Z",
     "start_time": "2024-05-28T03:26:46.124840Z"
    }
   },
   "source": [
    "def convert_images_to_pdf(image_folder, output_pdf):\n",
    "    # 페이지 사이즈 정의 (A4)\n",
    "    page_width, page_height = A4\n",
    "\n",
    "    # 이미지 파일 목록 가져오기\n",
    "    image_files = [f for f in os.listdir(image_folder) if f.endswith('.png')]\n",
    "\n",
    "    # 이미지 파일 크기 나누기\n",
    "    threshold = 500\n",
    "    large_problems = []\n",
    "    small_problems = []\n",
    "    img_path_list = []\n",
    "    for file in image_files:\n",
    "        img_path = os.path.join(image_folder, file)\n",
    "        img = cv2.imread(img_path)\n",
    "        img_height, img_width, _ = img.shape\n",
    "        if img_height >= threshold:\n",
    "            large_problems.append(img)\n",
    "        else:\n",
    "            small_problems.append(img)\n",
    "        img_path_list.append(img_path)\n",
    "\n",
    "    c = canvas.Canvas(output_pdf, pagesize=A4)\n",
    "    c.drawImage(\"template.png\", 0, 0, width=page_width, height=page_height)\n",
    "\n",
    "    # Large images processing (remains unchanged)\n",
    "    left_page_full = False\n",
    "    for i, img in enumerate(large_problems):\n",
    "        img_height, img_width, _ = img.shape\n",
    "        if left_page_full:\n",
    "            c.drawImage(img_path_list[i], page_width / 2, page_height - img_height - 20)\n",
    "            c.showPage()\n",
    "        else:\n",
    "            c.drawImage(img_path_list[i], 10, page_height - img_height - 20)\n",
    "        left_page_full = not left_page_full  # 수정된 부분\n",
    "\n",
    "    # Small images processing\n",
    "    for i, img in enumerate(small_problems):\n",
    "        img_height, img_width, _ = img.shape\n",
    "        \n",
    "        # 이미지 배치 좌표 설정\n",
    "        positions = [\n",
    "            (21, page_height - img_height - 21),  # 1\n",
    "            (316, page_height - img_height - 21),  # 2\n",
    "            (21, page_height - img_height - 427),  # 3\n",
    "            (316, page_height - img_height - 427)  # 4\n",
    "        ]\n",
    "        \n",
    "        pos = positions[i % 4]  # 이미지의 위치 선택\n",
    "        print(f\"index {i} : {pos}\")\n",
    "\n",
    "        c.drawImage(img_path_list[i], pos[0], pos[1])\n",
    "\n",
    "        if i % 4 == 3:\n",
    "            c.showPage()\n",
    "\n",
    "    c.save()\n",
    "    print(f\"PDF 파일이 성공적으로 생성되었습니다: {output_pdf}\")\n",
    "\n",
    "def save_temp_image(image):\n",
    "    temp_file = tempfile.NamedTemporaryFile(delete=False, suffix='.png')\n",
    "    temp_path = temp_file.name\n",
    "    cv2.imwrite(temp_path, image)\n",
    "    return temp_path"
   ],
   "outputs": [],
   "execution_count": 3
  },
  {
   "cell_type": "code",
   "metadata": {
    "ExecuteTime": {
     "end_time": "2024-05-28T03:26:49.818153Z",
     "start_time": "2024-05-28T03:26:49.624310Z"
    }
   },
   "source": [
    "# 이미지 폴더 경로 및 출력 PDF 파일 이름 설정\n",
    "\n",
    "textbook_name = \"블랙라벨 수학 II\"\n",
    "output_pdf = f'{textbook_name}_editted.pdf'\n",
    "\n",
    "convert_images_to_pdf(r'C:\\Users\\aiotu\\Projects\\GradProj\\cheada_fastapi\\cheada\\globalUtils\\temp_problem_storage', output_pdf)"
   ],
   "outputs": [
    {
     "ename": "FileNotFoundError",
     "evalue": "[Errno 2] No such file or directory: 'C:\\\\Users\\\\aiotu\\\\Projects\\\\GradProj\\\\cheada_fastapi\\\\cheada\\\\globalUtils\\\\temp_problem_storage'",
     "output_type": "error",
     "traceback": [
      "\u001B[0;31m---------------------------------------------------------------------------\u001B[0m",
      "\u001B[0;31mFileNotFoundError\u001B[0m                         Traceback (most recent call last)",
      "Cell \u001B[0;32mIn[4], line 6\u001B[0m\n\u001B[1;32m      3\u001B[0m textbook_name \u001B[38;5;241m=\u001B[39m \u001B[38;5;124m\"\u001B[39m\u001B[38;5;124m블랙라벨 수학 II\u001B[39m\u001B[38;5;124m\"\u001B[39m\n\u001B[1;32m      4\u001B[0m output_pdf \u001B[38;5;241m=\u001B[39m \u001B[38;5;124mf\u001B[39m\u001B[38;5;124m'\u001B[39m\u001B[38;5;132;01m{\u001B[39;00mtextbook_name\u001B[38;5;132;01m}\u001B[39;00m\u001B[38;5;124m_editted.pdf\u001B[39m\u001B[38;5;124m'\u001B[39m\n\u001B[0;32m----> 6\u001B[0m \u001B[43mconvert_images_to_pdf\u001B[49m\u001B[43m(\u001B[49m\u001B[38;5;124;43mr\u001B[39;49m\u001B[38;5;124;43m'\u001B[39;49m\u001B[38;5;124;43mC:\u001B[39;49m\u001B[38;5;124;43m\\\u001B[39;49m\u001B[38;5;124;43mUsers\u001B[39;49m\u001B[38;5;124;43m\\\u001B[39;49m\u001B[38;5;124;43maiotu\u001B[39;49m\u001B[38;5;124;43m\\\u001B[39;49m\u001B[38;5;124;43mProjects\u001B[39;49m\u001B[38;5;124;43m\\\u001B[39;49m\u001B[38;5;124;43mGradProj\u001B[39;49m\u001B[38;5;124;43m\\\u001B[39;49m\u001B[38;5;124;43mcheada_fastapi\u001B[39;49m\u001B[38;5;124;43m\\\u001B[39;49m\u001B[38;5;124;43mcheada\u001B[39;49m\u001B[38;5;124;43m\\\u001B[39;49m\u001B[38;5;124;43mglobalUtils\u001B[39;49m\u001B[38;5;124;43m\\\u001B[39;49m\u001B[38;5;124;43mtemp_problem_storage\u001B[39;49m\u001B[38;5;124;43m'\u001B[39;49m\u001B[43m,\u001B[49m\u001B[43m \u001B[49m\u001B[43moutput_pdf\u001B[49m\u001B[43m)\u001B[49m\n",
      "Cell \u001B[0;32mIn[3], line 6\u001B[0m, in \u001B[0;36mconvert_images_to_pdf\u001B[0;34m(image_folder, output_pdf)\u001B[0m\n\u001B[1;32m      3\u001B[0m page_width, page_height \u001B[38;5;241m=\u001B[39m A4\n\u001B[1;32m      5\u001B[0m \u001B[38;5;66;03m# 이미지 파일 목록 가져오기\u001B[39;00m\n\u001B[0;32m----> 6\u001B[0m image_files \u001B[38;5;241m=\u001B[39m [f \u001B[38;5;28;01mfor\u001B[39;00m f \u001B[38;5;129;01min\u001B[39;00m \u001B[43mos\u001B[49m\u001B[38;5;241;43m.\u001B[39;49m\u001B[43mlistdir\u001B[49m\u001B[43m(\u001B[49m\u001B[43mimage_folder\u001B[49m\u001B[43m)\u001B[49m \u001B[38;5;28;01mif\u001B[39;00m f\u001B[38;5;241m.\u001B[39mendswith(\u001B[38;5;124m'\u001B[39m\u001B[38;5;124m.png\u001B[39m\u001B[38;5;124m'\u001B[39m)]\n\u001B[1;32m      8\u001B[0m \u001B[38;5;66;03m# 이미지 파일 크기 나누기\u001B[39;00m\n\u001B[1;32m      9\u001B[0m threshold \u001B[38;5;241m=\u001B[39m \u001B[38;5;241m500\u001B[39m\n",
      "\u001B[0;31mFileNotFoundError\u001B[0m: [Errno 2] No such file or directory: 'C:\\\\Users\\\\aiotu\\\\Projects\\\\GradProj\\\\cheada_fastapi\\\\cheada\\\\globalUtils\\\\temp_problem_storage'"
     ]
    }
   ],
   "execution_count": 4
  },
  {
   "cell_type": "code",
   "execution_count": null,
   "metadata": {},
   "outputs": [],
   "source": [
    "def download_textbook_from_s3(filename, file_location):\n",
    "    \"\"\"\n",
    "    \n",
    "    :param filename: \n",
    "    :param file_location: \n",
    "    :return: \n",
    "    \"\"\"\n",
    "    s3_utils.download_file_from_s3(filename, file_location)"
   ]
  },
  {
   "cell_type": "code",
   "execution_count": null,
   "metadata": {},
   "outputs": [],
   "source": []
  }
 ],
 "metadata": {
  "kernelspec": {
   "display_name": "py310",
   "language": "python",
   "name": "python3"
  },
  "language_info": {
   "codemirror_mode": {
    "name": "ipython",
    "version": 3
   },
   "file_extension": ".py",
   "mimetype": "text/x-python",
   "name": "python",
   "nbconvert_exporter": "python",
   "pygments_lexer": "ipython3",
   "version": "3.10.14"
  }
 },
 "nbformat": 4,
 "nbformat_minor": 2
}
