{
 "cells": [
  {
   "cell_type": "code",
   "metadata": {
    "ExecuteTime": {
     "end_time": "2024-05-26T12:04:23.448920Z",
     "start_time": "2024-05-26T12:04:23.442133Z"
    }
   },
   "source": [
    "import cv2\n",
    "from reportlab.lib.pagesizes import A4\n",
    "from reportlab.pdfgen import canvas\n",
    "import os\n",
    "import tempfile\n",
    "from cheada.cloud_service_agent.s3 import s3_utils\n"
   ],
   "outputs": [],
   "execution_count": 15
  },
  {
   "cell_type": "code",
   "metadata": {
    "ExecuteTime": {
     "end_time": "2024-05-26T12:30:48.948906Z",
     "start_time": "2024-05-26T12:30:48.928727Z"
    }
   },
   "source": [
    "def convert_images_to_pdf(image_folder, output_pdf):\n",
    "    # 페이지 사이즈 정의 (A4)\n",
    "    page_width, page_height = A4\n",
    "\n",
    "    # 이미지 파일 목록 가져오기\n",
    "    image_files = [f for f in os.listdir(image_folder) if f.endswith('.png')]\n",
    "\n",
    "    # 이미지 파일 크기 나누기\n",
    "    threshold = 500\n",
    "    large_problems = []\n",
    "    small_problems = []\n",
    "    img_path_list = []\n",
    "    for file in image_files:\n",
    "        img_path = os.path.join(image_folder, file)\n",
    "        img = cv2.imread(img_path)\n",
    "        img_height, img_width, _ = img.shape\n",
    "        if img_height >= threshold:\n",
    "            large_problems.append(img)\n",
    "        else:\n",
    "            small_problems.append(img)\n",
    "        img_path_list.append(img_path)\n",
    "\n",
    "    c = canvas.Canvas(output_pdf, pagesize=A4)\n",
    "    c.drawImage(\"template.png\", 0, 0, width=page_width, height=page_height)\n",
    "\n",
    "    # Large images processing (remains unchanged)\n",
    "    left_page_full = False\n",
    "    for i, img in enumerate(large_problems):\n",
    "        img_height, img_width, _ = img.shape\n",
    "        if left_page_full:\n",
    "            c.drawImage(img_path_list[i], page_width / 2, page_height - img_height - 20)\n",
    "            c.showPage()\n",
    "        else:\n",
    "            c.drawImage(img_path_list[i], 10, page_height - img_height - 20)\n",
    "        left_page_full = not left_page_full  # 수정된 부분\n",
    "\n",
    "    # Small images processing\n",
    "    for i, img in enumerate(small_problems):\n",
    "        img_height, img_width, _ = img.shape\n",
    "        # 이미지 배치 좌표 설정\n",
    "        positions = [\n",
    "            (21, page_height - img_height - 21),  # 1\n",
    "            (316, page_height - img_height - 21),  # 2\n",
    "            (21, page_height - img_height - 427),  # 3\n",
    "            (316, page_height - img_height - 427)  # 4\n",
    "        ]\n",
    "        \n",
    "        pos = positions[i % 4]  # 이미지의 위치 선택\n",
    "        print(f\"index {i} : {pos}\")\n",
    "\n",
    "        c.drawImage(img_path_list[i], pos[0], pos[1])\n",
    "\n",
    "        if i % 4 == 3:\n",
    "            c.showPage()\n",
    "\n",
    "    c.save()\n",
    "    print(f\"PDF 파일이 성공적으로 생성되었습니다: {output_pdf}\")\n",
    "\n",
    "def save_temp_image(image):\n",
    "    temp_file = tempfile.NamedTemporaryFile(delete=False, suffix='.png')\n",
    "    temp_path = temp_file.name\n",
    "    cv2.imwrite(temp_path, image)\n",
    "    return temp_path"
   ],
   "outputs": [],
   "execution_count": 31
  },
  {
   "metadata": {},
   "cell_type": "code",
   "source": "",
   "outputs": [],
   "execution_count": null
  },
  {
   "cell_type": "code",
   "metadata": {
    "ExecuteTime": {
     "end_time": "2024-05-26T12:30:50.934873Z",
     "start_time": "2024-05-26T12:30:50.833500Z"
    }
   },
   "source": [
    "# 이미지 폴더 경로 및 출력 PDF 파일 이름 설정\n",
    "image_folder = os.path.abspath(\"temp_problem_storage\")\n",
    "\n",
    "textbook_name = \"블랙라벨 수학 II2\"\n",
    "output_pdf = f'{textbook_name}_editted.pdf'\n",
    "\n",
    "convert_images_to_pdf('/Users/mac/PycharmProjects/chaeda_fastapi/cheada/domain/review_note_maker/service/temp_problem_storage', output_pdf)"
   ],
   "outputs": [
    {
     "name": "stdout",
     "output_type": "stream",
     "text": [
      "index 0 : (21, 698.8897637795277)\n",
      "index 1 : (316, 668.8897637795277)\n",
      "index 2 : (21, 275.8897637795277)\n",
      "index 3 : (316, 260.8897637795277)\n",
      "PDF 파일이 성공적으로 생성되었습니다: 블랙라벨 수학 II2_editted.pdf\n"
     ]
    }
   ],
   "execution_count": 32
  },
  {
   "cell_type": "code",
   "execution_count": null,
   "metadata": {},
   "outputs": [],
   "source": [
    "def download_textbook_from_s3(filename, file_location):\n",
    "    \"\"\"\n",
    "    \n",
    "    :param filename: \n",
    "    :param file_location: \n",
    "    :return: \n",
    "    \"\"\"\n",
    "    s3_utils.download_file_from_s3(filename, file_location)"
   ]
  },
  {
   "cell_type": "code",
   "execution_count": null,
   "metadata": {},
   "outputs": [],
   "source": []
  }
 ],
 "metadata": {
  "kernelspec": {
   "display_name": "py310",
   "language": "python",
   "name": "python3"
  },
  "language_info": {
   "codemirror_mode": {
    "name": "ipython",
    "version": 3
   },
   "file_extension": ".py",
   "mimetype": "text/x-python",
   "name": "python",
   "nbconvert_exporter": "python",
   "pygments_lexer": "ipython3",
   "version": "3.10.14"
  }
 },
 "nbformat": 4,
 "nbformat_minor": 2
}
